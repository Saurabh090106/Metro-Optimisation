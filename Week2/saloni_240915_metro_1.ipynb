{
 "cells": [
  {
   "cell_type": "markdown",
   "id": "0457527c",
   "metadata": {},
   "source": [
    "# assignment 1\n"
   ]
  },
  {
   "cell_type": "code",
   "execution_count": 1,
   "id": "65740e15",
   "metadata": {},
   "outputs": [
    {
     "name": "stderr",
     "output_type": "stream",
     "text": [
      "[nltk_data] Downloading package stopwords to C:\\Users\\Saloni\n",
      "[nltk_data]     Kumari\\AppData\\Roaming\\nltk_data...\n",
      "[nltk_data]   Package stopwords is already up-to-date!\n"
     ]
    },
    {
     "data": {
      "text/plain": [
       "True"
      ]
     },
     "execution_count": 1,
     "metadata": {},
     "output_type": "execute_result"
    }
   ],
   "source": [
    "import numpy as np\n",
    "import pandas as pd \n",
    "import matplotlib as mtp \n",
    "import seaborn as sns \n",
    "import re\n",
    "import string\n",
    "import nltk\n",
    "from nltk.corpus import stopwords\n",
    "nltk.download('stopwords')\n"
   ]
  },
  {
   "cell_type": "markdown",
   "id": "a7f48e97",
   "metadata": {},
   "source": [
    "## extract the refrence dataset from kaggle"
   ]
  },
  {
   "cell_type": "code",
   "execution_count": 2,
   "id": "4f821d69",
   "metadata": {},
   "outputs": [],
   "source": [
    "df=pd.read_csv(\"C:/Users/Saloni Kumari/.vscode/SMILES_Big_Data_Set.csv\")"
   ]
  },
  {
   "cell_type": "code",
   "execution_count": 3,
   "id": "d46131bf",
   "metadata": {},
   "outputs": [
    {
     "data": {
      "text/html": [
       "<div>\n",
       "<style scoped>\n",
       "    .dataframe tbody tr th:only-of-type {\n",
       "        vertical-align: middle;\n",
       "    }\n",
       "\n",
       "    .dataframe tbody tr th {\n",
       "        vertical-align: top;\n",
       "    }\n",
       "\n",
       "    .dataframe thead th {\n",
       "        text-align: right;\n",
       "    }\n",
       "</style>\n",
       "<table border=\"1\" class=\"dataframe\">\n",
       "  <thead>\n",
       "    <tr style=\"text-align: right;\">\n",
       "      <th></th>\n",
       "      <th>SMILES</th>\n",
       "      <th>pIC50</th>\n",
       "      <th>mol</th>\n",
       "      <th>num_atoms</th>\n",
       "      <th>logP</th>\n",
       "    </tr>\n",
       "  </thead>\n",
       "  <tbody>\n",
       "    <tr>\n",
       "      <th>0</th>\n",
       "      <td>O=S(=O)(Nc1cccc(-c2cnc3ccccc3n2)c1)c1cccs1</td>\n",
       "      <td>4.26</td>\n",
       "      <td>&lt;rdkit.Chem.rdchem.Mol object at 0x7f59df45bc30&gt;</td>\n",
       "      <td>25</td>\n",
       "      <td>4.1591</td>\n",
       "    </tr>\n",
       "    <tr>\n",
       "      <th>1</th>\n",
       "      <td>O=c1cc(-c2nc(-c3ccc(-c4cn(CCP(=O)(O)O)nn4)cc3)...</td>\n",
       "      <td>4.34</td>\n",
       "      <td>&lt;rdkit.Chem.rdchem.Mol object at 0x7f59a320c9e0&gt;</td>\n",
       "      <td>36</td>\n",
       "      <td>3.6743</td>\n",
       "    </tr>\n",
       "    <tr>\n",
       "      <th>2</th>\n",
       "      <td>NC(=O)c1ccc2c(c1)nc(C1CCC(O)CC1)n2CCCO</td>\n",
       "      <td>4.53</td>\n",
       "      <td>&lt;rdkit.Chem.rdchem.Mol object at 0x7f59a320cac0&gt;</td>\n",
       "      <td>23</td>\n",
       "      <td>1.5361</td>\n",
       "    </tr>\n",
       "    <tr>\n",
       "      <th>3</th>\n",
       "      <td>NCCCn1c(C2CCNCC2)nc2cc(C(N)=O)ccc21</td>\n",
       "      <td>4.56</td>\n",
       "      <td>&lt;rdkit.Chem.rdchem.Mol object at 0x7f59a320cba0&gt;</td>\n",
       "      <td>22</td>\n",
       "      <td>0.9510</td>\n",
       "    </tr>\n",
       "    <tr>\n",
       "      <th>4</th>\n",
       "      <td>CNC(=S)Nc1cccc(-c2cnc3ccccc3n2)c1</td>\n",
       "      <td>4.59</td>\n",
       "      <td>&lt;rdkit.Chem.rdchem.Mol object at 0x7f59a320c7b0&gt;</td>\n",
       "      <td>21</td>\n",
       "      <td>3.2130</td>\n",
       "    </tr>\n",
       "  </tbody>\n",
       "</table>\n",
       "</div>"
      ],
      "text/plain": [
       "                                              SMILES  pIC50  \\\n",
       "0         O=S(=O)(Nc1cccc(-c2cnc3ccccc3n2)c1)c1cccs1   4.26   \n",
       "1  O=c1cc(-c2nc(-c3ccc(-c4cn(CCP(=O)(O)O)nn4)cc3)...   4.34   \n",
       "2             NC(=O)c1ccc2c(c1)nc(C1CCC(O)CC1)n2CCCO   4.53   \n",
       "3                NCCCn1c(C2CCNCC2)nc2cc(C(N)=O)ccc21   4.56   \n",
       "4                  CNC(=S)Nc1cccc(-c2cnc3ccccc3n2)c1   4.59   \n",
       "\n",
       "                                                mol  num_atoms    logP  \n",
       "0  <rdkit.Chem.rdchem.Mol object at 0x7f59df45bc30>         25  4.1591  \n",
       "1  <rdkit.Chem.rdchem.Mol object at 0x7f59a320c9e0>         36  3.6743  \n",
       "2  <rdkit.Chem.rdchem.Mol object at 0x7f59a320cac0>         23  1.5361  \n",
       "3  <rdkit.Chem.rdchem.Mol object at 0x7f59a320cba0>         22  0.9510  \n",
       "4  <rdkit.Chem.rdchem.Mol object at 0x7f59a320c7b0>         21  3.2130  "
      ]
     },
     "execution_count": 3,
     "metadata": {},
     "output_type": "execute_result"
    }
   ],
   "source": [
    "df.head()"
   ]
  },
  {
   "cell_type": "code",
   "execution_count": 4,
   "id": "49f0591b",
   "metadata": {},
   "outputs": [
    {
     "data": {
      "text/html": [
       "<div>\n",
       "<style scoped>\n",
       "    .dataframe tbody tr th:only-of-type {\n",
       "        vertical-align: middle;\n",
       "    }\n",
       "\n",
       "    .dataframe tbody tr th {\n",
       "        vertical-align: top;\n",
       "    }\n",
       "\n",
       "    .dataframe thead th {\n",
       "        text-align: right;\n",
       "    }\n",
       "</style>\n",
       "<table border=\"1\" class=\"dataframe\">\n",
       "  <thead>\n",
       "    <tr style=\"text-align: right;\">\n",
       "      <th></th>\n",
       "      <th>SMILES</th>\n",
       "      <th>pIC50</th>\n",
       "      <th>mol</th>\n",
       "      <th>num_atoms</th>\n",
       "      <th>logP</th>\n",
       "    </tr>\n",
       "  </thead>\n",
       "  <tbody>\n",
       "    <tr>\n",
       "      <th>16082</th>\n",
       "      <td>S=C(NN=C(c1ccccn1)c1ccccn1)Nc1ccccc1</td>\n",
       "      <td>0.00</td>\n",
       "      <td>&lt;rdkit.Chem.rdchem.Mol object at 0x7f59a314ed50&gt;</td>\n",
       "      <td>24</td>\n",
       "      <td>3.21560</td>\n",
       "    </tr>\n",
       "    <tr>\n",
       "      <th>16083</th>\n",
       "      <td>S=C=NCCCCCCCCCCc1ccccc1</td>\n",
       "      <td>0.00</td>\n",
       "      <td>&lt;rdkit.Chem.rdchem.Mol object at 0x7f59a314edc0&gt;</td>\n",
       "      <td>19</td>\n",
       "      <td>5.45270</td>\n",
       "    </tr>\n",
       "    <tr>\n",
       "      <th>16084</th>\n",
       "      <td>S=C=NCCCCCCCCc1ccccc1</td>\n",
       "      <td>0.00</td>\n",
       "      <td>&lt;rdkit.Chem.rdchem.Mol object at 0x7f59a314ee30&gt;</td>\n",
       "      <td>17</td>\n",
       "      <td>4.67250</td>\n",
       "    </tr>\n",
       "    <tr>\n",
       "      <th>16085</th>\n",
       "      <td>S=c1[nH]nc(Cn2ccc3ccccc32)n1-c1ccccc1</td>\n",
       "      <td>0.00</td>\n",
       "      <td>&lt;rdkit.Chem.rdchem.Mol object at 0x7f59a314eea0&gt;</td>\n",
       "      <td>22</td>\n",
       "      <td>3.93289</td>\n",
       "    </tr>\n",
       "    <tr>\n",
       "      <th>16086</th>\n",
       "      <td>N=[N+]=NC=Cc1ccc([N+](=O)[O-])o1</td>\n",
       "      <td>0.02</td>\n",
       "      <td>&lt;rdkit.Chem.rdchem.Mol object at 0x7f59a314ef10&gt;</td>\n",
       "      <td>13</td>\n",
       "      <td>1.70887</td>\n",
       "    </tr>\n",
       "  </tbody>\n",
       "</table>\n",
       "</div>"
      ],
      "text/plain": [
       "                                      SMILES  pIC50  \\\n",
       "16082   S=C(NN=C(c1ccccn1)c1ccccn1)Nc1ccccc1   0.00   \n",
       "16083                S=C=NCCCCCCCCCCc1ccccc1   0.00   \n",
       "16084                  S=C=NCCCCCCCCc1ccccc1   0.00   \n",
       "16085  S=c1[nH]nc(Cn2ccc3ccccc32)n1-c1ccccc1   0.00   \n",
       "16086       N=[N+]=NC=Cc1ccc([N+](=O)[O-])o1   0.02   \n",
       "\n",
       "                                                    mol  num_atoms     logP  \n",
       "16082  <rdkit.Chem.rdchem.Mol object at 0x7f59a314ed50>         24  3.21560  \n",
       "16083  <rdkit.Chem.rdchem.Mol object at 0x7f59a314edc0>         19  5.45270  \n",
       "16084  <rdkit.Chem.rdchem.Mol object at 0x7f59a314ee30>         17  4.67250  \n",
       "16085  <rdkit.Chem.rdchem.Mol object at 0x7f59a314eea0>         22  3.93289  \n",
       "16086  <rdkit.Chem.rdchem.Mol object at 0x7f59a314ef10>         13  1.70887  "
      ]
     },
     "execution_count": 4,
     "metadata": {},
     "output_type": "execute_result"
    }
   ],
   "source": [
    "df.tail()"
   ]
  },
  {
   "cell_type": "code",
   "execution_count": 5,
   "id": "7104a5f9",
   "metadata": {},
   "outputs": [
    {
     "data": {
      "text/plain": [
       "np.int64(0)"
      ]
     },
     "execution_count": 5,
     "metadata": {},
     "output_type": "execute_result"
    }
   ],
   "source": [
    "df.duplicated().sum()"
   ]
  },
  {
   "cell_type": "markdown",
   "id": "e9a2b1f6",
   "metadata": {},
   "source": [
    "## so, there is no duplicate data \n"
   ]
  },
  {
   "cell_type": "code",
   "execution_count": 6,
   "id": "4370e967",
   "metadata": {},
   "outputs": [
    {
     "data": {
      "text/plain": [
       "SMILES          0\n",
       "pIC50        1050\n",
       "mol             0\n",
       "num_atoms       0\n",
       "logP            0\n",
       "dtype: int64"
      ]
     },
     "execution_count": 6,
     "metadata": {},
     "output_type": "execute_result"
    }
   ],
   "source": [
    "df.isnull().sum()"
   ]
  },
  {
   "cell_type": "markdown",
   "id": "ce4e8794",
   "metadata": {},
   "source": [
    "1.Only the column pIC50 has 1050 missing (null) values.\n",
    "\n",
    "2.All other columns are fully populated (no missing data).\n",
    "    Now we have to drop all this"
   ]
  },
  {
   "cell_type": "code",
   "execution_count": 7,
   "id": "1f576df4",
   "metadata": {},
   "outputs": [],
   "source": [
    "df=df.dropna()"
   ]
  },
  {
   "cell_type": "code",
   "execution_count": 8,
   "id": "4be8f162",
   "metadata": {},
   "outputs": [
    {
     "data": {
      "text/plain": [
       "SMILES\n",
       "CC(NC1CCC(n2cc(C(N)=O)c(Nc3ccc(S(=O)(=O)C(F)(F)F)cc3)n2)C(C#N)C1)C1CC1    6\n",
       "N#CC1CC(N2CCC2)CCC1n1cc(C(N)=O)c(Nc2ccc(C(O)C(F)(F)F)cc2)n1               4\n",
       "N#CC1CC(N2CC3(CCC3)C2)CCC1n1cc(C(N)=O)c(Nc2ccc(C(O)C(F)(F)F)cc2)n1        4\n",
       "N#CC1CC(OCC2CC2)CCC1n1cc(C(N)=O)c(Nc2ccc(C(O)C(F)(F)F)cc2)n1              4\n",
       "N#CC1CC(NC(C2CC2)C(F)(F)F)CCC1n1cc(C(N)=O)c(Nc2ccc(C(F)(F)F)cc2)n1        4\n",
       "                                                                         ..\n",
       "O=c1cc(CSc2ccccn2)occ1O                                                   1\n",
       "O=C(c1c(O)c2ccc(Cl)cc2[nH]c1=O)c1csc2ccccc12                              1\n",
       "O=c1[nH]c2cc(Cl)ccc2c(O)c1-c1cccc(NCc2ccccc2)c1                           1\n",
       "O=C(Cc1ccccc1)OC1Cc2c(O)cc(O)cc2OC1c1ccc(O)c(O)c1                         1\n",
       "N=[N+]=NC=Cc1ccc([N+](=O)[O-])o1                                          1\n",
       "Name: count, Length: 14823, dtype: int64"
      ]
     },
     "execution_count": 8,
     "metadata": {},
     "output_type": "execute_result"
    }
   ],
   "source": [
    "df['SMILES'].unique()\n",
    "df['SMILES'].value_counts()"
   ]
  },
  {
   "cell_type": "code",
   "execution_count": 9,
   "id": "1abe279a",
   "metadata": {},
   "outputs": [
    {
     "data": {
      "text/html": [
       "<div>\n",
       "<style scoped>\n",
       "    .dataframe tbody tr th:only-of-type {\n",
       "        vertical-align: middle;\n",
       "    }\n",
       "\n",
       "    .dataframe tbody tr th {\n",
       "        vertical-align: top;\n",
       "    }\n",
       "\n",
       "    .dataframe thead th {\n",
       "        text-align: right;\n",
       "    }\n",
       "</style>\n",
       "<table border=\"1\" class=\"dataframe\">\n",
       "  <thead>\n",
       "    <tr style=\"text-align: right;\">\n",
       "      <th></th>\n",
       "      <th>SMILES</th>\n",
       "      <th>pIC50</th>\n",
       "      <th>mol</th>\n",
       "      <th>num_atoms</th>\n",
       "      <th>logP</th>\n",
       "    </tr>\n",
       "  </thead>\n",
       "  <tbody>\n",
       "    <tr>\n",
       "      <th>67</th>\n",
       "      <td>O=c1[nH]c2cnc(-n3cnc4ccccc43)nc2n1C1CCOc2c(F)c...</td>\n",
       "      <td>5.16</td>\n",
       "      <td>&lt;rdkit.Chem.rdchem.Mol object at 0x7f59a320e650&gt;</td>\n",
       "      <td>30</td>\n",
       "      <td>2.96950</td>\n",
       "    </tr>\n",
       "    <tr>\n",
       "      <th>162</th>\n",
       "      <td>CC(=O)NC1CCc2ccc(Oc3cnc4[nH]cc(C(=O)NC(C)C)c4n...</td>\n",
       "      <td>5.77</td>\n",
       "      <td>&lt;rdkit.Chem.rdchem.Mol object at 0x7f59a31dfa70&gt;</td>\n",
       "      <td>29</td>\n",
       "      <td>3.01180</td>\n",
       "    </tr>\n",
       "    <tr>\n",
       "      <th>172</th>\n",
       "      <td>O=C1NC(=O)C(c2c[nH]c3ccccc23)=C1Nc1cccc(OC2CCN...</td>\n",
       "      <td>5.83</td>\n",
       "      <td>&lt;rdkit.Chem.rdchem.Mol object at 0x7f59a31dfed0&gt;</td>\n",
       "      <td>36</td>\n",
       "      <td>3.83930</td>\n",
       "    </tr>\n",
       "    <tr>\n",
       "      <th>192</th>\n",
       "      <td>O=C1NC(=O)C(c2c[nH]c3ccccc23)=C1Nc1cccc(OC2CCN...</td>\n",
       "      <td>5.91</td>\n",
       "      <td>&lt;rdkit.Chem.rdchem.Mol object at 0x7f59a2938820&gt;</td>\n",
       "      <td>36</td>\n",
       "      <td>3.83930</td>\n",
       "    </tr>\n",
       "    <tr>\n",
       "      <th>211</th>\n",
       "      <td>CN(C)C1CCC(n2cc(C(N)=O)c(Nc3ccc(OC(F)F)nc3)n2)...</td>\n",
       "      <td>5.96</td>\n",
       "      <td>&lt;rdkit.Chem.rdchem.Mol object at 0x7f59a2939070&gt;</td>\n",
       "      <td>30</td>\n",
       "      <td>2.51698</td>\n",
       "    </tr>\n",
       "    <tr>\n",
       "      <th>...</th>\n",
       "      <td>...</td>\n",
       "      <td>...</td>\n",
       "      <td>...</td>\n",
       "      <td>...</td>\n",
       "      <td>...</td>\n",
       "    </tr>\n",
       "    <tr>\n",
       "      <th>1889</th>\n",
       "      <td>CC(=O)N1CCC(Nc2ncccc2-c2cnc3[nH]ccc3n2)C1</td>\n",
       "      <td>10.40</td>\n",
       "      <td>&lt;rdkit.Chem.rdchem.Mol object at 0x7f59a29674c0&gt;</td>\n",
       "      <td>24</td>\n",
       "      <td>2.05260</td>\n",
       "    </tr>\n",
       "    <tr>\n",
       "      <th>1892</th>\n",
       "      <td>CN(c1[nH]cnc2nccc1-2)C1CCC(CS(=O)(=O)N2CCC(C)(...</td>\n",
       "      <td>10.44</td>\n",
       "      <td>&lt;rdkit.Chem.rdchem.Mol object at 0x7f59a2967610&gt;</td>\n",
       "      <td>28</td>\n",
       "      <td>1.69100</td>\n",
       "    </tr>\n",
       "    <tr>\n",
       "      <th>1897</th>\n",
       "      <td>CS(=O)(=O)N1CCC(Nc2ncccc2-c2cnc3[nH]ccc3n2)C1</td>\n",
       "      <td>10.53</td>\n",
       "      <td>&lt;rdkit.Chem.rdchem.Mol object at 0x7f59a2967840&gt;</td>\n",
       "      <td>25</td>\n",
       "      <td>1.46570</td>\n",
       "    </tr>\n",
       "    <tr>\n",
       "      <th>1899</th>\n",
       "      <td>COC(=O)N1CCC(Nc2ncccc2-c2cnc3[nH]ccc3n2)C1</td>\n",
       "      <td>10.56</td>\n",
       "      <td>&lt;rdkit.Chem.rdchem.Mol object at 0x7f59a2967920&gt;</td>\n",
       "      <td>25</td>\n",
       "      <td>2.27250</td>\n",
       "    </tr>\n",
       "    <tr>\n",
       "      <th>1909</th>\n",
       "      <td>CS(=O)(=O)N1CCC(Nc2ncccc2-c2cnc3[nH]ccc3n2)C1</td>\n",
       "      <td>10.97</td>\n",
       "      <td>&lt;rdkit.Chem.rdchem.Mol object at 0x7f59a2967d80&gt;</td>\n",
       "      <td>25</td>\n",
       "      <td>1.46570</td>\n",
       "    </tr>\n",
       "  </tbody>\n",
       "</table>\n",
       "<p>340 rows × 5 columns</p>\n",
       "</div>"
      ],
      "text/plain": [
       "                                                 SMILES  pIC50  \\\n",
       "67    O=c1[nH]c2cnc(-n3cnc4ccccc43)nc2n1C1CCOc2c(F)c...   5.16   \n",
       "162   CC(=O)NC1CCc2ccc(Oc3cnc4[nH]cc(C(=O)NC(C)C)c4n...   5.77   \n",
       "172   O=C1NC(=O)C(c2c[nH]c3ccccc23)=C1Nc1cccc(OC2CCN...   5.83   \n",
       "192   O=C1NC(=O)C(c2c[nH]c3ccccc23)=C1Nc1cccc(OC2CCN...   5.91   \n",
       "211   CN(C)C1CCC(n2cc(C(N)=O)c(Nc3ccc(OC(F)F)nc3)n2)...   5.96   \n",
       "...                                                 ...    ...   \n",
       "1889          CC(=O)N1CCC(Nc2ncccc2-c2cnc3[nH]ccc3n2)C1  10.40   \n",
       "1892  CN(c1[nH]cnc2nccc1-2)C1CCC(CS(=O)(=O)N2CCC(C)(...  10.44   \n",
       "1897      CS(=O)(=O)N1CCC(Nc2ncccc2-c2cnc3[nH]ccc3n2)C1  10.53   \n",
       "1899         COC(=O)N1CCC(Nc2ncccc2-c2cnc3[nH]ccc3n2)C1  10.56   \n",
       "1909      CS(=O)(=O)N1CCC(Nc2ncccc2-c2cnc3[nH]ccc3n2)C1  10.97   \n",
       "\n",
       "                                                   mol  num_atoms     logP  \n",
       "67    <rdkit.Chem.rdchem.Mol object at 0x7f59a320e650>         30  2.96950  \n",
       "162   <rdkit.Chem.rdchem.Mol object at 0x7f59a31dfa70>         29  3.01180  \n",
       "172   <rdkit.Chem.rdchem.Mol object at 0x7f59a31dfed0>         36  3.83930  \n",
       "192   <rdkit.Chem.rdchem.Mol object at 0x7f59a2938820>         36  3.83930  \n",
       "211   <rdkit.Chem.rdchem.Mol object at 0x7f59a2939070>         30  2.51698  \n",
       "...                                                ...        ...      ...  \n",
       "1889  <rdkit.Chem.rdchem.Mol object at 0x7f59a29674c0>         24  2.05260  \n",
       "1892  <rdkit.Chem.rdchem.Mol object at 0x7f59a2967610>         28  1.69100  \n",
       "1897  <rdkit.Chem.rdchem.Mol object at 0x7f59a2967840>         25  1.46570  \n",
       "1899  <rdkit.Chem.rdchem.Mol object at 0x7f59a2967920>         25  2.27250  \n",
       "1909  <rdkit.Chem.rdchem.Mol object at 0x7f59a2967d80>         25  1.46570  \n",
       "\n",
       "[340 rows x 5 columns]"
      ]
     },
     "execution_count": 9,
     "metadata": {},
     "output_type": "execute_result"
    }
   ],
   "source": [
    "inconsistent = df.groupby('SMILES')['pIC50'].nunique()\n",
    "inconsistent = inconsistent[inconsistent > 1]\n",
    "df[df['SMILES'].isin(inconsistent.index)]"
   ]
  },
  {
   "cell_type": "markdown",
   "id": "b063e2b8",
   "metadata": {},
   "source": [
    "# There are some inconsistent data and we have to remove that\n",
    "  because it Violates the One-to-One Mapping"
   ]
  },
  {
   "cell_type": "code",
   "execution_count": 10,
   "id": "86999bd3",
   "metadata": {},
   "outputs": [
    {
     "name": "stdout",
     "output_type": "stream",
     "text": [
      "Shape after removing inconsistencies: (14697, 5)\n",
      "Remaining duplicates in SMILES: 27\n"
     ]
    }
   ],
   "source": [
    "df = df[~df['SMILES'].isin(inconsistent.index)]\n",
    "print(\"Shape after removing inconsistencies:\", df.shape)\n",
    "print(\"Remaining duplicates in SMILES:\", df['SMILES'].duplicated().sum())\n"
   ]
  },
  {
   "cell_type": "markdown",
   "id": "a09587b8",
   "metadata": {},
   "source": [
    "# yes, there is some duplicate data\n",
    "    These don’t add new information. They just repeat the same data point.\n",
    "    So, we Should be removed to avoid bias or redundancy.\n",
    "\n"
   ]
  },
  {
   "cell_type": "code",
   "execution_count": 11,
   "id": "145682c6",
   "metadata": {},
   "outputs": [],
   "source": [
    "df = df.drop_duplicates(subset=['SMILES', 'pIC50'])"
   ]
  },
  {
   "cell_type": "code",
   "execution_count": 12,
   "id": "66fad7d2",
   "metadata": {},
   "outputs": [],
   "source": [
    "df['SMILES'] = df['SMILES'].str.strip().str.lower()\n"
   ]
  },
  {
   "cell_type": "markdown",
   "id": "82fe6cea",
   "metadata": {},
   "source": [
    "# Now ,I want to print the cleaned version\n"
   ]
  },
  {
   "cell_type": "code",
   "execution_count": 13,
   "id": "b316b445",
   "metadata": {},
   "outputs": [
    {
     "name": "stdout",
     "output_type": "stream",
     "text": [
      "Shape: (14670, 5)\n",
      "Missing values:\n",
      " SMILES       0\n",
      "pIC50        0\n",
      "mol          0\n",
      "num_atoms    0\n",
      "logP         0\n",
      "dtype: int64\n",
      "Duplicate SMILES: 32\n"
     ]
    }
   ],
   "source": [
    "print(\"Shape:\", df.shape)\n",
    "print(\"Missing values:\\n\", df.isnull().sum())\n",
    "df = df.drop_duplicates(subset=['SMILES', 'pIC50'])\n",
    "print(\"Duplicate SMILES:\", df['SMILES'].duplicated().sum())"
   ]
  },
  {
   "cell_type": "markdown",
   "id": "8db8a5ef",
   "metadata": {},
   "source": [
    "### That means there are still some duplicate SMILES, but with different pIC50 values, which drop_duplicates() didn’t remove — because it only drops exact duplicate pairs."
   ]
  },
  {
   "cell_type": "code",
   "execution_count": 14,
   "id": "927a41a2",
   "metadata": {},
   "outputs": [
    {
     "data": {
      "text/html": [
       "<div>\n",
       "<style scoped>\n",
       "    .dataframe tbody tr th:only-of-type {\n",
       "        vertical-align: middle;\n",
       "    }\n",
       "\n",
       "    .dataframe tbody tr th {\n",
       "        vertical-align: top;\n",
       "    }\n",
       "\n",
       "    .dataframe thead th {\n",
       "        text-align: right;\n",
       "    }\n",
       "</style>\n",
       "<table border=\"1\" class=\"dataframe\">\n",
       "  <thead>\n",
       "    <tr style=\"text-align: right;\">\n",
       "      <th></th>\n",
       "      <th>SMILES</th>\n",
       "      <th>pIC50</th>\n",
       "      <th>mol</th>\n",
       "      <th>num_atoms</th>\n",
       "      <th>logP</th>\n",
       "    </tr>\n",
       "  </thead>\n",
       "  <tbody>\n",
       "    <tr>\n",
       "      <th>0</th>\n",
       "      <td>o=s(=o)(nc1cccc(-c2cnc3ccccc3n2)c1)c1cccs1</td>\n",
       "      <td>4.26</td>\n",
       "      <td>&lt;rdkit.Chem.rdchem.Mol object at 0x7f59df45bc30&gt;</td>\n",
       "      <td>25</td>\n",
       "      <td>4.1591</td>\n",
       "    </tr>\n",
       "    <tr>\n",
       "      <th>1</th>\n",
       "      <td>o=c1cc(-c2nc(-c3ccc(-c4cn(ccp(=o)(o)o)nn4)cc3)...</td>\n",
       "      <td>4.34</td>\n",
       "      <td>&lt;rdkit.Chem.rdchem.Mol object at 0x7f59a320c9e0&gt;</td>\n",
       "      <td>36</td>\n",
       "      <td>3.6743</td>\n",
       "    </tr>\n",
       "    <tr>\n",
       "      <th>2</th>\n",
       "      <td>nc(=o)c1ccc2c(c1)nc(c1ccc(o)cc1)n2ccco</td>\n",
       "      <td>4.53</td>\n",
       "      <td>&lt;rdkit.Chem.rdchem.Mol object at 0x7f59a320cac0&gt;</td>\n",
       "      <td>23</td>\n",
       "      <td>1.5361</td>\n",
       "    </tr>\n",
       "    <tr>\n",
       "      <th>3</th>\n",
       "      <td>ncccn1c(c2ccncc2)nc2cc(c(n)=o)ccc21</td>\n",
       "      <td>4.56</td>\n",
       "      <td>&lt;rdkit.Chem.rdchem.Mol object at 0x7f59a320cba0&gt;</td>\n",
       "      <td>22</td>\n",
       "      <td>0.9510</td>\n",
       "    </tr>\n",
       "    <tr>\n",
       "      <th>4</th>\n",
       "      <td>cnc(=s)nc1cccc(-c2cnc3ccccc3n2)c1</td>\n",
       "      <td>4.59</td>\n",
       "      <td>&lt;rdkit.Chem.rdchem.Mol object at 0x7f59a320c7b0&gt;</td>\n",
       "      <td>21</td>\n",
       "      <td>3.2130</td>\n",
       "    </tr>\n",
       "  </tbody>\n",
       "</table>\n",
       "</div>"
      ],
      "text/plain": [
       "                                              SMILES  pIC50  \\\n",
       "0         o=s(=o)(nc1cccc(-c2cnc3ccccc3n2)c1)c1cccs1   4.26   \n",
       "1  o=c1cc(-c2nc(-c3ccc(-c4cn(ccp(=o)(o)o)nn4)cc3)...   4.34   \n",
       "2             nc(=o)c1ccc2c(c1)nc(c1ccc(o)cc1)n2ccco   4.53   \n",
       "3                ncccn1c(c2ccncc2)nc2cc(c(n)=o)ccc21   4.56   \n",
       "4                  cnc(=s)nc1cccc(-c2cnc3ccccc3n2)c1   4.59   \n",
       "\n",
       "                                                mol  num_atoms    logP  \n",
       "0  <rdkit.Chem.rdchem.Mol object at 0x7f59df45bc30>         25  4.1591  \n",
       "1  <rdkit.Chem.rdchem.Mol object at 0x7f59a320c9e0>         36  3.6743  \n",
       "2  <rdkit.Chem.rdchem.Mol object at 0x7f59a320cac0>         23  1.5361  \n",
       "3  <rdkit.Chem.rdchem.Mol object at 0x7f59a320cba0>         22  0.9510  \n",
       "4  <rdkit.Chem.rdchem.Mol object at 0x7f59a320c7b0>         21  3.2130  "
      ]
     },
     "execution_count": 14,
     "metadata": {},
     "output_type": "execute_result"
    }
   ],
   "source": [
    "df.head()"
   ]
  },
  {
   "cell_type": "code",
   "execution_count": 15,
   "id": "65d312f6",
   "metadata": {},
   "outputs": [],
   "source": [
    "df['SMILES'] = df['SMILES'].apply(lambda x: re.sub(r\"http\\S+|www\\S+|@\\w+|#\\w+\", '', x))\n",
    "df['SMILES'] = df['SMILES'].apply(lambda x: re.sub(r\"[^A-Za-z0-9\\s]\", '', x))"
   ]
  },
  {
   "cell_type": "markdown",
   "id": "2dec87b1",
   "metadata": {},
   "source": [
    "### Now,URLS,hashtags,Emojis,and special characters are removed"
   ]
  },
  {
   "cell_type": "code",
   "execution_count": 16,
   "id": "1dbac0d8",
   "metadata": {},
   "outputs": [],
   "source": [
    "df['SMILES'] = df['SMILES'].apply(lambda x: x.translate(str.maketrans('', '', string.punctuation)))\n",
    "df['SMILES'] = df['SMILES'].str.strip()"
   ]
  },
  {
   "cell_type": "markdown",
   "id": "492e156f",
   "metadata": {},
   "source": [
    "### This help to remove punctuation and spaces"
   ]
  },
  {
   "cell_type": "code",
   "execution_count": 17,
   "id": "13a62417",
   "metadata": {},
   "outputs": [],
   "source": [
    "df['SMILES'] = df['SMILES'].str.lower()"
   ]
  },
  {
   "cell_type": "code",
   "execution_count": 18,
   "id": "04efdb61",
   "metadata": {},
   "outputs": [],
   "source": [
    "stop_words = set(stopwords.words('english'))\n",
    "df['SMILES'] = df['SMILES'].apply(lambda x: ' '.join([word for word in x.split() if word not in stop_words]))"
   ]
  },
  {
   "cell_type": "markdown",
   "id": "a1fc3247",
   "metadata": {},
   "source": [
    "### stop words are removed by this"
   ]
  },
  {
   "cell_type": "code",
   "execution_count": 19,
   "id": "74c66dff",
   "metadata": {},
   "outputs": [
    {
     "data": {
      "text/html": [
       "<div>\n",
       "<style scoped>\n",
       "    .dataframe tbody tr th:only-of-type {\n",
       "        vertical-align: middle;\n",
       "    }\n",
       "\n",
       "    .dataframe tbody tr th {\n",
       "        vertical-align: top;\n",
       "    }\n",
       "\n",
       "    .dataframe thead th {\n",
       "        text-align: right;\n",
       "    }\n",
       "</style>\n",
       "<table border=\"1\" class=\"dataframe\">\n",
       "  <thead>\n",
       "    <tr style=\"text-align: right;\">\n",
       "      <th></th>\n",
       "      <th>SMILES</th>\n",
       "      <th>pIC50</th>\n",
       "      <th>mol</th>\n",
       "      <th>num_atoms</th>\n",
       "      <th>logP</th>\n",
       "    </tr>\n",
       "  </thead>\n",
       "  <tbody>\n",
       "    <tr>\n",
       "      <th>0</th>\n",
       "      <td>osonc1ccccc2cnc3ccccc3n2c1c1cccs1</td>\n",
       "      <td>4.26</td>\n",
       "      <td>&lt;rdkit.Chem.rdchem.Mol object at 0x7f59df45bc30&gt;</td>\n",
       "      <td>25</td>\n",
       "      <td>4.1591</td>\n",
       "    </tr>\n",
       "    <tr>\n",
       "      <th>1</th>\n",
       "      <td>oc1ccc2ncc3cccc4cnccpooonn4cc3nhc2c2cccfcc2ccnh1</td>\n",
       "      <td>4.34</td>\n",
       "      <td>&lt;rdkit.Chem.rdchem.Mol object at 0x7f59a320c9e0&gt;</td>\n",
       "      <td>36</td>\n",
       "      <td>3.6743</td>\n",
       "    </tr>\n",
       "    <tr>\n",
       "      <th>2</th>\n",
       "      <td>ncoc1ccc2cc1ncc1cccocc1n2ccco</td>\n",
       "      <td>4.53</td>\n",
       "      <td>&lt;rdkit.Chem.rdchem.Mol object at 0x7f59a320cac0&gt;</td>\n",
       "      <td>23</td>\n",
       "      <td>1.5361</td>\n",
       "    </tr>\n",
       "    <tr>\n",
       "      <th>3</th>\n",
       "      <td>ncccn1cc2ccncc2nc2cccnoccc21</td>\n",
       "      <td>4.56</td>\n",
       "      <td>&lt;rdkit.Chem.rdchem.Mol object at 0x7f59a320cba0&gt;</td>\n",
       "      <td>22</td>\n",
       "      <td>0.9510</td>\n",
       "    </tr>\n",
       "    <tr>\n",
       "      <th>4</th>\n",
       "      <td>cncsnc1ccccc2cnc3ccccc3n2c1</td>\n",
       "      <td>4.59</td>\n",
       "      <td>&lt;rdkit.Chem.rdchem.Mol object at 0x7f59a320c7b0&gt;</td>\n",
       "      <td>21</td>\n",
       "      <td>3.2130</td>\n",
       "    </tr>\n",
       "  </tbody>\n",
       "</table>\n",
       "</div>"
      ],
      "text/plain": [
       "                                             SMILES  pIC50  \\\n",
       "0                 osonc1ccccc2cnc3ccccc3n2c1c1cccs1   4.26   \n",
       "1  oc1ccc2ncc3cccc4cnccpooonn4cc3nhc2c2cccfcc2ccnh1   4.34   \n",
       "2                     ncoc1ccc2cc1ncc1cccocc1n2ccco   4.53   \n",
       "3                      ncccn1cc2ccncc2nc2cccnoccc21   4.56   \n",
       "4                       cncsnc1ccccc2cnc3ccccc3n2c1   4.59   \n",
       "\n",
       "                                                mol  num_atoms    logP  \n",
       "0  <rdkit.Chem.rdchem.Mol object at 0x7f59df45bc30>         25  4.1591  \n",
       "1  <rdkit.Chem.rdchem.Mol object at 0x7f59a320c9e0>         36  3.6743  \n",
       "2  <rdkit.Chem.rdchem.Mol object at 0x7f59a320cac0>         23  1.5361  \n",
       "3  <rdkit.Chem.rdchem.Mol object at 0x7f59a320cba0>         22  0.9510  \n",
       "4  <rdkit.Chem.rdchem.Mol object at 0x7f59a320c7b0>         21  3.2130  "
      ]
     },
     "execution_count": 19,
     "metadata": {},
     "output_type": "execute_result"
    }
   ],
   "source": [
    "df.head()"
   ]
  },
  {
   "cell_type": "code",
   "execution_count": null,
   "id": "a198d5f7",
   "metadata": {},
   "outputs": [],
   "source": []
  }
 ],
 "metadata": {
  "kernelspec": {
   "display_name": "Python 3",
   "language": "python",
   "name": "python3"
  },
  "language_info": {
   "codemirror_mode": {
    "name": "ipython",
    "version": 3
   },
   "file_extension": ".py",
   "mimetype": "text/x-python",
   "name": "python",
   "nbconvert_exporter": "python",
   "pygments_lexer": "ipython3",
   "version": "3.13.3"
  }
 },
 "nbformat": 4,
 "nbformat_minor": 5
}
